# AI Keyword Clustering Demo

This notebook demonstrates how AI embeddings can group keywords into meaningful clusters.  

## Steps:
1. Load sample keyword dataset  
2. Generate embeddings for each keyword  
3. Apply clustering algorithm (e.g., KMeans)  
4. Visualize keyword groups  

------------------------------------------------------------

# Sample keywords
keywords = [
    "digital marketing",
    "seo strategy",
    "content automation",
    "ai tools",
    "keyword clustering",
    "technical seo",
    "storytelling in marketing",
    "growth hacking",
    "link building",
    "search engine optimization"
]

print("Number of keywords:", len(keywords))

